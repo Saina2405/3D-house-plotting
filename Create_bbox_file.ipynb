{
 "cells": [
  {
   "cell_type": "markdown",
   "metadata": {},
   "source": [
    "### Create a list of DSM and DTM raster files"
   ]
  },
  {
   "cell_type": "code",
   "execution_count": null,
   "metadata": {},
   "outputs": [],
   "source": [
    "def raster_list():\n",
    "    \n",
    "    #Create list of all raster files\n",
    "    import os\n",
    "    import fnmatch\n",
    "    path = os.path.abspath('/media/becode/GOPRO2/1GEOTIFF')\n",
    "    folder_path = path\n",
    "    \n",
    "    global dsmlist, dtmlist\n",
    "    dsmlist = []\n",
    "    dtmlist = []\n",
    "\n",
    "\n",
    "    for path, dirs, files in os.walk(folder_path):\n",
    "            for filename in files:\n",
    "                if fnmatch.fnmatch(filename, '*DSM*'):\n",
    "                    dsmlist.append(filename)\n",
    "                if fnmatch.fnmatch(filename, '*DTM*'):\n",
    "                    dtmlist.append(filename)\n",
    "            print(\"There are\",len(dsmlist), \"DSM raster files.\")\n",
    "            print(\"There are\",len(dtmlist), \"DTM raster files.\")\n",
    "            \n",
    "raster_list()"
   ]
  },
  {
   "cell_type": "markdown",
   "metadata": {},
   "source": [
    "### Get bounds for all raster files in Flanders"
   ]
  },
  {
   "cell_type": "code",
   "execution_count": null,
   "metadata": {},
   "outputs": [],
   "source": [
    "def get_bounds():\n",
    "\n",
    "    #Get bounds of rasters\n",
    "    import os\n",
    "    import rasterio\n",
    "    import pandas as pd\n",
    "\n",
    "    #Set path\n",
    "    path = os.path.abspath('/media/becode/GOPRO2/1GEOTIFF')\n",
    "\n",
    "    #Make an empty lists\n",
    "    dsmbounds = []\n",
    "    filenames = []\n",
    "\n",
    "    for f in dsmlist:\n",
    "    \n",
    "        filepath = os.path.join(path, f)\n",
    "    \n",
    "        #Add raster filename to list\n",
    "        filenames.append(f)\n",
    "    \n",
    "        #Open raster and add bounds to list\n",
    "        with rasterio.open(filepath) as src:\n",
    "            dsmbounds.append(src.bounds)\n",
    "    \n",
    "    #Create df of filenames and bounds\n",
    "    global dsm_df\n",
    "    dsm_df = pd.DataFrame({'filelist': filenames,\n",
    "                   'bounds': dsmbounds})\n",
    " \n",
    "    #Write df to a file\n",
    "    dsm_df.to_csv(\"dsmbounds.csv\", index=False)\n",
    "\n",
    "    #Make an empty lists\n",
    "    dtmbounds = []\n",
    "    filenames = []\n",
    "    \n",
    "    for f in dtmlist:\n",
    "    \n",
    "        filepath = os.path.join(path, f)\n",
    "    \n",
    "        #Add raster filename to list\n",
    "        filenames.append(f)\n",
    "    \n",
    "        #Open raster and add bounds to list\n",
    "        with rasterio.open(filepath) as src:\n",
    "            dtmbounds.append(src.bounds)\n",
    "\n",
    "    #Create df of filenames and bounds\n",
    "    global dtm_df\n",
    "    dtm_df = pd.DataFrame({'filelist': filenames,\n",
    "                   'bounds': dtmbounds})\n",
    " \n",
    "    #Write df to a file\n",
    "    dtm_df.to_csv(\"dtmbounds.csv\", index=False)\n",
    "    \n",
    "get_bounds()"
   ]
  }
 ],
 "metadata": {
  "interpreter": {
   "hash": "916dbcbb3f70747c44a77c7bcd40155683ae19c65e1c03b4aa3499c5328201f1"
  },
  "kernelspec": {
   "display_name": "Python 3.8.10 64-bit",
   "language": "python",
   "name": "python3"
  },
  "language_info": {
   "name": "python",
   "version": "3.8.10"
  },
  "orig_nbformat": 4
 },
 "nbformat": 4,
 "nbformat_minor": 2
}
